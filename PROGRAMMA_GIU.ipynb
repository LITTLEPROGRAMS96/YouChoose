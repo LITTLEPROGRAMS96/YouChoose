{
 "cells": [
  {
   "cell_type": "code",
   "execution_count": 13,
   "metadata": {},
   "outputs": [
    {
     "name": "stdout",
     "output_type": "stream",
     "text": [
      " Inserire percorso della cartella : /home/giandomenico/Scrivania/cartella_X\n"
     ]
    },
    {
     "data": {
      "text/plain": [
       "['3 ** 2file.txt', '1 ** POLIMORFISMO 1.pptx', '2 ** file.txt']"
      ]
     },
     "execution_count": 13,
     "metadata": {},
     "output_type": "execute_result"
    }
   ],
   "source": [
    "import os\n",
    "\n",
    "percorso = input(\" Inserire percorso della cartella : \")\n",
    "lista_file = os.listdir( percorso )\n",
    "\n",
    "prefisso = percorso\n",
    "stringa_soglia = '/'\n",
    "prefisso = prefisso+stringa_soglia\n",
    "\n",
    "controllo = ' ** '\n",
    "n=0\n",
    "for f in lista_file :\n",
    "    if controllo not in f :\n",
    "        n=n+1\n",
    "        n_stringa = str(n)\n",
    "        os.rename( prefisso+f,prefisso+n_stringa+controllo+f )\n",
    "    elif controllo in f :\n",
    "        os.rename( prefisso+f, prefisso+f )\n",
    "        \n",
    "os.listdir( percorso )"
   ]
  },
  {
   "cell_type": "code",
   "execution_count": 17,
   "metadata": {},
   "outputs": [
    {
     "name": "stdout",
     "output_type": "stream",
     "text": [
      "Numero primo file da scambiare :8\n",
      "Numero secondo file da scambiare :9\n",
      " IL FILE NON SI TROVA NELLA CARTELLA \n",
      "['3 ** 2file.txt', '1 ** file.txt', '2 ** POLIMORFISMO 1.pptx']\n"
     ]
    }
   ],
   "source": [
    "lista_file = os.listdir( percorso )\n",
    "s_1 = input(\"Numero primo file da scambiare :\")\n",
    "s_2 = input(\"Numero secondo file da scambiare :\")\n",
    "\n",
    "s_1_str_cont = str(s_1)+controllo\n",
    "s_2_str_cont = str(s_2)+controllo \n",
    "\n",
    "try :\n",
    "    try :\n",
    "        for f in lista_file :\n",
    "            if s_1_str_cont in f :\n",
    "                file_1 = f\n",
    "                lunghezza_prefisso_base = len(s_1_str_cont)\n",
    "                file_base = f[lunghezza_prefisso_base:]\n",
    "        os.rename( prefisso+s_1_str_cont+file_base, prefisso+s_2_str_cont+file_base)\n",
    "        \n",
    "        for f in lista_file :\n",
    "            if s_2_str_cont in f :\n",
    "                file_2 = f\n",
    "                lunghezza_prefisso_base = len(s_2_str_cont)\n",
    "                file_base = f[lunghezza_prefisso_base:]\n",
    "        os.rename( prefisso+s_2_str_cont+file_base, prefisso+s_1_str_cont+file_base)\n",
    "        \n",
    "    except FileNotFoundError :\n",
    "        print(\" IL FILE NON SI TROVA NELLA CARTELLA \")\n",
    "        \n",
    "finally :\n",
    "    print(os.listdir( percorso ))\n",
    "        "
   ]
  },
  {
   "cell_type": "code",
   "execution_count": null,
   "metadata": {},
   "outputs": [],
   "source": []
  }
 ],
 "metadata": {
  "kernelspec": {
   "display_name": "Python 3",
   "language": "python",
   "name": "python3"
  },
  "language_info": {
   "codemirror_mode": {
    "name": "ipython",
    "version": 3
   },
   "file_extension": ".py",
   "mimetype": "text/x-python",
   "name": "python",
   "nbconvert_exporter": "python",
   "pygments_lexer": "ipython3",
   "version": "3.8.5"
  }
 },
 "nbformat": 4,
 "nbformat_minor": 4
}
